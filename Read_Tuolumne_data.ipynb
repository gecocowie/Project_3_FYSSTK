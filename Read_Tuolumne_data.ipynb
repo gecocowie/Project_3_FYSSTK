{
 "cells": [
  {
   "cell_type": "markdown",
   "metadata": {},
   "source": [
    "##Read NETCDF Data"
   ]
  },
  {
   "cell_type": "code",
   "execution_count": 2,
   "metadata": {},
   "outputs": [],
   "source": [
    "#Imports\n",
    "from sklearn.preprocessing import StandardScaler\n",
    "from sklearn.svm import SVR \n",
    "from sklearn.svm import LinearSVR\n",
    "from sklearn.model_selection import train_test_split\n",
    "from sklearn.ensemble import RandomForestRegressor\n",
    "from sklearn.neural_network import MLPRegressor\n",
    "import sklearn.metrics as metric\n",
    "from netCDF4 import Dataset\n",
    "import numpy as np\n",
    "import sklearn as skl\n",
    "import matplotlib.pyplot as plt\n",
    "import pandas as pd\n",
    "\n",
    "#Some settings for plots\n",
    "plt.rcParams['mathtext.fontset'] = 'custom'\n",
    "plt.rcParams['mathtext.rm'] = 'Bitstream Vera Sans'\n",
    "plt.rcParams['mathtext.it'] = 'Bitstream Vera Sans:italic'\n",
    "plt.rcParams['mathtext.bf'] = 'Bitstream Vera Sans:bold'\n",
    "plt.rcParams['mathtext.fontset'] = 'stix'\n",
    "plt.rcParams['font.family'] = 'STIXGeneral'\n",
    "plt.rcParams['font.size'] = 18"
   ]
  },
  {
   "cell_type": "code",
   "execution_count": 3,
   "metadata": {},
   "outputs": [
    {
     "name": "stdout",
     "output_type": "stream",
     "text": [
      "<class 'netCDF4._netCDF4.Dataset'>\n",
      "root group (NETCDF4 data model, file format HDF5):\n",
      "    name: ASO Tuolumne basin machine learning and geostatistics data set\n",
      "    contains: SWE depth maps from 16 Airborne Snow Observatory lidar scans (2016-2019)  and \"static\" terrain parameters from the SRTM DEM and the National Land Cover Database\n",
      "    location: Tuolumne basin (around Hetch Hetch Reservoir), in the Californian Sierra Nevada\n",
      "    time period: Multiple flights in the snow seasons 2016, 2017, 2018, and 2019\n",
      "    georeferencing: Pixels/cells are regularly spaced in zone 11S of the UTM projection based on the WGS84 ellipsoid.\n",
      "    convention: By convention, the first pixel (i.e.: row index i=1, column index j=1) is in the upper left corner of the image.\n",
      "    dimensions: The image stack \"D\" (SWE maps) have 3 dimensions [dim1=rows=y_i=northing, dim2=columns=x_j=easting, dim3=t_n=time of flight]\n",
      "    Ground sampling distance: GSD=100 meters (spatial resolution)\n",
      "    easting coordinate: The easting pixel center coordinates x_j, which are increasing from left to right along the columns of the image, are given by x_j=x_ULC+(1-j)*GSD where j runs from 1 to ncolumns=3500\n",
      "    northing coordinate: The northing pixel center coordinates y_i, which are decreasing from top to bottom down the rows of the image, are given by y_i=x_ULC-(1-i)*GSD where i runs from 1 to nrows=2100\n",
      "    information: Contact kristoffer.aalstad@geo.uio.no\n",
      "    created by: Kristoffer Aalstad\n",
      "    created: 03-Dec-2020 15:48:53\n",
      "    license: CC BY 4.0\n",
      "    thanks: Thanks to the ASO team (link https://www.airbornesnowobservatories.com/ ), particularly Thomas Painter and Kat Bormann, for sharing their data\n",
      "    references: ASO: https://doi.org/10.1016/j.rse.2016.06.018 , NLCD: https://doi.org/10.1016/j.isprsjprs.2018.09.006 , SRTM: https://doi.org/10.1029/2005RG000183 \n",
      "    dimensions(sizes): y(559), x(648), t(16)\n",
      "    variables(dimensions): float64 \u001b[4mz\u001b[0m(x,y), float64 \u001b[4masp\u001b[0m(x,y), float64 \u001b[4mslp\u001b[0m(x,y), float64 \u001b[4msvf\u001b[0m(x,y), float64 \u001b[4mcc\u001b[0m(x,y), float64 \u001b[4mmask\u001b[0m(x,y), float64 \u001b[4mX\u001b[0m(x,y), float64 \u001b[4mY\u001b[0m(x,y), float64 \u001b[4mD\u001b[0m(t,x,y), uint16 \u001b[4mDOY\u001b[0m(t), uint16 \u001b[4myear\u001b[0m(t), float64 \u001b[4mx\u001b[0m(x), float64 \u001b[4my\u001b[0m(y)\n",
      "    groups: \n",
      "\n"
     ]
    }
   ],
   "source": [
    "#Load data\n",
    "path = 'Data/ASO_Tuolumne.nc'\n",
    "data=Dataset(path,mode='r')\n",
    "\n",
    "\n",
    "D = np.transpose(data.variables['D'])\n",
    "not_nan = np.full((D[:,:,0].shape), True, dtype=bool)#\n",
    "\"\"\"Find values that are covered by all passes\"\"\"\n",
    "for i in range(D.shape[2]):\n",
    "    nans =~ np.isnan(D[:,:,i]) # A 2D Boolean array whose elements are true for the pixels that are not NaN.\n",
    "    not_nan = not_nan*nans\n",
    "\n",
    "def read_and_clean(variable,not_nan):\n",
    "    \"\"\"Read variables from netcdf data and create a 1D array for regression\"\"\"\n",
    "    variable = data.variables[variable]\n",
    "    variable = np.transpose(np.array(variable))  \n",
    "    image = np.zeros_like(variable) # Image template array to map back to later.\n",
    "    variable_image = image\n",
    "    clean_image = variable[not_nan] # A 1D array that contains the non NaN points in z. \n",
    "    variable_image[not_nan] = clean_image # Set to z_clean for non NaN points.\n",
    "    variable_image[~not_nan] = np.nan # Set to NaN for remaining points.\n",
    "    return variable_image,clean_image\n",
    "\n",
    "D,D_clean  = read_and_clean('D',not_nan)#SWE\n",
    "z,z_clean  = read_and_clean('z',not_nan)\n",
    "asp,asp_clean = read_and_clean('asp',not_nan)#aspect\n",
    "northness = -np.cos(asp); northness_clean = -np.cos(asp_clean)\n",
    "eastness = np.sin(asp);eastness_clean = np.sin(asp_clean)\n",
    "\n",
    "DOY = np.array(data.variables['DOY'])\n",
    "year = np.array(data.variables['year'])\n",
    "\n",
    "\n",
    "slp,slp_clean = read_and_clean('slp',not_nan)\n",
    "cc,cc_clean = read_and_clean('cc',not_nan)\n",
    "X,X_clean  = read_and_clean('X',not_nan)\n",
    "Y,X_clean  = read_and_clean('Y',not_nan)\n",
    "svf,svf_clean = read_and_clean('svf',not_nan)#sky view factor\n",
    "\n",
    "print(data)\n",
    "data.close()\n"
   ]
  },
  {
   "cell_type": "code",
   "execution_count": 1,
   "metadata": {},
   "outputs": [
    {
     "ename": "NameError",
     "evalue": "name 'z' is not defined",
     "output_type": "error",
     "traceback": [
      "\u001b[0;31m---------------------------------------------------------------------------\u001b[0m",
      "\u001b[0;31mNameError\u001b[0m                                 Traceback (most recent call last)",
      "\u001b[0;32m<ipython-input-1-7220338d65cb>\u001b[0m in \u001b[0;36m<module>\u001b[0;34m\u001b[0m\n\u001b[1;32m     13\u001b[0m \u001b[0;34m\u001b[0m\u001b[0m\n\u001b[1;32m     14\u001b[0m \u001b[0;34m\u001b[0m\u001b[0m\n\u001b[0;32m---> 15\u001b[0;31m     \u001b[0mdisplay_image\u001b[0m\u001b[0;34m(\u001b[0m\u001b[0mz\u001b[0m\u001b[0;34m,\u001b[0m\u001b[0;34m'Elevation'\u001b[0m\u001b[0;34m)\u001b[0m\u001b[0;34m\u001b[0m\u001b[0;34m\u001b[0m\u001b[0m\n\u001b[0m\u001b[1;32m     16\u001b[0m     \u001b[0mdisplay_image\u001b[0m\u001b[0;34m(\u001b[0m\u001b[0mnorthness\u001b[0m\u001b[0;34m,\u001b[0m\u001b[0;34m'Northness'\u001b[0m\u001b[0;34m)\u001b[0m\u001b[0;34m\u001b[0m\u001b[0;34m\u001b[0m\u001b[0m\n\u001b[1;32m     17\u001b[0m     \u001b[0mdisplay_image\u001b[0m\u001b[0;34m(\u001b[0m\u001b[0meastness\u001b[0m\u001b[0;34m,\u001b[0m\u001b[0;34m'Eastness'\u001b[0m\u001b[0;34m)\u001b[0m\u001b[0;34m\u001b[0m\u001b[0;34m\u001b[0m\u001b[0m\n",
      "\u001b[0;31mNameError\u001b[0m: name 'z' is not defined"
     ]
    }
   ],
   "source": [
    "if __name__ == \"__main__\":\n",
    "    \n",
    "    def display_image(image,title):\n",
    "        plt.figure(figsize = [7,7])\n",
    "        cm=plt.imshow(image)\n",
    "        plt.title(title)\n",
    "        plt.ylabel('Row index, i')\n",
    "        plt.xlabel('Column index, j')\n",
    "        plt.colorbar()\n",
    "        plt.axis('equal')\n",
    "        plt.savefig('figs/'+title + '_map.png')\n",
    "        #plt.show()\n",
    "\n",
    "\n",
    "    display_image(z,'Elevation')\n",
    "    display_image(northness,'Northness')\n",
    "    display_image(eastness,'Eastness')\n",
    "    display_image(cc,'Canopy_cover')\n",
    "    display_image(slp,'Slope')\n",
    "    display_image(svf,'Sky_view_factor')\n",
    "\n",
    "\n",
    "    #for i in range(D.shape[2]):\n",
    "    #    display_image(D[:,:,i],i)\n",
    "    plt.close('all')\n",
    "  "
   ]
  },
  {
   "cell_type": "code",
   "execution_count": null,
   "metadata": {},
   "outputs": [],
   "source": []
  }
 ],
 "metadata": {
  "kernelspec": {
   "display_name": "Python 3",
   "language": "python",
   "name": "python3"
  },
  "language_info": {
   "codemirror_mode": {
    "name": "ipython",
    "version": 3
   },
   "file_extension": ".py",
   "mimetype": "text/x-python",
   "name": "python",
   "nbconvert_exporter": "python",
   "pygments_lexer": "ipython3",
   "version": "3.7.3"
  }
 },
 "nbformat": 4,
 "nbformat_minor": 2
}
